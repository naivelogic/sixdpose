{
 "cells": [
  {
   "cell_type": "code",
   "execution_count": 1,
   "metadata": {},
   "outputs": [],
   "source": [
    "%load_ext autoreload\n",
    "%autoreload 2\n",
    "\n",
    "import os,sys\n",
    "sys.path.append(\"../\")\n",
    "sys.path.append(\"/home/redne/pvnet/latentfusion/\")\n",
    "\n",
    "import matplotlib\n",
    "%matplotlib inline\n",
    "from matplotlib import pyplot as plt"
   ]
  },
  {
   "cell_type": "code",
   "execution_count": 3,
   "metadata": {},
   "outputs": [],
   "source": [
    "import os\n",
    "from pathlib import Path\n",
    "import numpy as np\n",
    "import torch\n",
    "from torch.backends import cudnn\n",
    "\n",
    "from latentfusion.datasets.bop import BOPDataset"
   ]
  },
  {
   "cell_type": "code",
   "execution_count": 21,
   "metadata": {},
   "outputs": [
    {
     "data": {
      "text/plain": [
       "PosixPath('/mnt/bop20hb/bop/hb/train_pbr/000001')"
      ]
     },
     "execution_count": 21,
     "metadata": {},
     "output_type": "execute_result"
    }
   ],
   "source": [
    "#bop_dataset = \"lm\"\n",
    "bop_dataset = \"hb\"\n",
    "#bopdata_path = Path(f\"/mnt/cvdatastore/bop/{bop_dataset}/\")\n",
    "#bopdata_path = Path(f\"/mnt/bopq/bop/{bop_dataset}/\")\n",
    "bopdata_path = Path(f'/mnt/bop20hb/bop/{bop_dataset}/')\n",
    "object_id = 1\n",
    "frame = 0\n",
    "input_scene_path = bopdata_path / f'train_pbr/{object_id:06d}'\n",
    "input_scene_path"
   ]
  },
  {
   "cell_type": "code",
   "execution_count": 22,
   "metadata": {},
   "outputs": [],
   "source": [
    "input_dataset = BOPDataset(bopdata_path, input_scene_path, object_id=object_id, object_scale=None)"
   ]
  },
  {
   "cell_type": "code",
   "execution_count": 8,
   "metadata": {},
   "outputs": [
    {
     "data": {
      "text/plain": [
       "tensor([[537.4799,   0.0000, 318.8965,   0.0000],\n",
       "        [  0.0000, 536.1447, 238.3781,   0.0000],\n",
       "        [  0.0000,   0.0000,   1.0000,   0.0000]])"
      ]
     },
     "execution_count": 8,
     "metadata": {},
     "output_type": "execute_result"
    }
   ],
   "source": [
    "input_dataset.intrinsics[0]"
   ]
  },
  {
   "cell_type": "code",
   "execution_count": 10,
   "metadata": {},
   "outputs": [],
   "source": [
    "from latentfusion.recon.inference import Observation\n",
    "num_input_views = 8\n",
    "input_obs = Observation.from_dataset(input_dataset, inds=input_dataset.sample_evenly(num_input_views))"
   ]
  },
  {
   "cell_type": "code",
   "execution_count": 17,
   "metadata": {},
   "outputs": [
    {
     "name": "stderr",
     "output_type": "stream",
     "text": [
      "\u001b[2m2020-08-23 04:38.03\u001b[0m [\u001b[32m\u001b[1minfo     \u001b[0m] \u001b[1mloaded model                  \u001b[0m [\u001b[34m\u001b[1mlatentfusion.recon.inference\u001b[0m] \u001b[36mepoch\u001b[0m=\u001b[35m200\u001b[0m \u001b[36mname\u001b[0m=\u001b[35mshapenet,no_mask_morph,fixed_eqlr,256,mask,depth,in_mask,mask_noise_p=0.25,sm=nearest,fuser=gru-branched_20200509_10h19m10s-branched_20200509_10h42m53s-branched_20200509_10h46m53s-branched_20200509_10h48m49s\u001b[0m\n"
     ]
    }
   ],
   "source": [
    "from latentfusion.recon.inference import LatentFusionModel\n",
    "\n",
    "CHECKPOINT = Path(\"/home/redne/pvnet/latentfusion/latentfusion-release.pth\")\n",
    "device = torch.device(\"cpu\")\n",
    "model = LatentFusionModel.from_checkpoint(CHECKPOINT, device)\n",
    "\n",
    "import latentfusion.visualization as viz\n",
    "from latentfusion.augment import gan_denormalize"
   ]
  },
  {
   "cell_type": "code",
   "execution_count": 18,
   "metadata": {},
   "outputs": [
    {
     "data": {
      "image/png": "[encoded data removed]",
      "text/plain": [
       "<Figure size 1440x720 with 3 Axes>"
      ]
     },
     "metadata": {
      "needs_background": "light"
     },
     "output_type": "display_data"
    }
   ],
   "source": [
    "input_obs_pp = model.preprocess_observation(input_obs)\n",
    "input_obs_pp_gt = model.preprocess_observation(input_obs)\n",
    "\n",
    "plt.figure(figsize=(20, 10))\n",
    "plt.subplot(131)\n",
    "viz.show_batch(gan_denormalize(input_obs_pp.color), nrow=4)\n",
    "plt.subplot(132)\n",
    "viz.show_batch(viz.colorize_depth(input_obs_pp.depth), nrow=4)\n",
    "plt.subplot(133)\n",
    "viz.show_batch(viz.colorize_tensor(input_obs_pp.mask), nrow=4)"
   ]
  },
  {
   "cell_type": "code",
   "execution_count": null,
   "metadata": {},
   "outputs": [],
   "source": []
  },
  {
   "cell_type": "code",
   "execution_count": null,
   "metadata": {},
   "outputs": [],
   "source": []
  },
  {
   "cell_type": "code",
   "execution_count": null,
   "metadata": {},
   "outputs": [],
   "source": []
  },
  {
   "cell_type": "code",
   "execution_count": null,
   "metadata": {},
   "outputs": [],
   "source": []
  }
 ],
 "metadata": {
  "kernelspec": {
   "display_name": "latentfusion",
   "language": "python",
   "name": "latentfusion"
  },
  "language_info": {
   "codemirror_mode": {
    "name": "ipython",
    "version": 3
   },
   "file_extension": ".py",
   "mimetype": "text/x-python",
   "name": "python",
   "nbconvert_exporter": "python",
   "pygments_lexer": "ipython3",
   "version": "3.8.3"
  }
 },
 "nbformat": 4,
 "nbformat_minor": 4
}
