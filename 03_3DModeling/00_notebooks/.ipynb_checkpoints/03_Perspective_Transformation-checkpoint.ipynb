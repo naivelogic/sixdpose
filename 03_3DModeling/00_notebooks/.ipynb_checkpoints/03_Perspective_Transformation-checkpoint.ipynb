{
 "cells": [
  {
   "cell_type": "markdown",
   "metadata": {},
   "source": [
    "# Perspective Transformation \n",
    "\n",
    "Working with 2D and 3D images, Perspective Transformations of how we can project various points onto an image plane is fundamental to being able to revoer distance in a 3D space. Here we focus mostly on projecting 3D coordinates into a normalized coordinate space, but first we provide a high level intorudction to the perspective transformation. \n",
    "\n",
    "![](https://i.stack.imgur.com/lkTbO.png)\n",
    "\n",
    "\n",
    "resource: Computer Vision: Algorithms and Applications (2020 - draft)\n",
    "resource: https://www.microsoft.com/en-us/research/wp-content/uploads/2004/10/tr-2004-92.pdf"
   ]
  },
  {
   "cell_type": "code",
   "execution_count": 1,
   "metadata": {},
   "outputs": [],
   "source": [
    "%load_ext autoreload\n",
    "%autoreload 2\n",
    "\n",
    "import os,sys\n",
    "from notebook_tools import *\n",
    "import cv2\n",
    "\n",
    "import matplotlib.pyplot as plt\n",
    "import matplotlib as mpl\n",
    "mpl.rcParams['figure.dpi'] = 130"
   ]
  },
  {
   "cell_type": "code",
   "execution_count": 2,
   "metadata": {},
   "outputs": [
    {
     "data": {
      "text/plain": [
       "<matplotlib.image.AxesImage at 0x7f4652c25160>"
      ]
     },
     "execution_count": 2,
     "metadata": {},
     "output_type": "execute_result"
    },
    {
     "data": {
      "image/png": "[encoded data removed]",
      "text/plain": [
       "<Figure size 432x288 with 1 Axes>"
      ]
     },
     "metadata": {
      "needs_background": "light"
     },
     "output_type": "display_data"
    }
   ],
   "source": [
    "#bop_path = \"/mnt/bop20hb/bop/hb/\"\n",
    "bop_path = '/mnt/bop20/bop/'\n",
    "dataset = 'lmo'\n",
    "dataset_path = os.path.join(bop_path, dataset)\n",
    "object_id = 1\n",
    "scene_path = os.path.join(dataset_path, 'train',f\"{object_id:06d}\")\n",
    "#scene_path = os.path.join(dataset_path, 'train_pbr',f\"{object_id:06d}\")\n",
    "rgb_path = os.path.join(scene_path, \"rgb\")\n",
    "\n",
    "image_id = 1\n",
    "image_path = os.path.join(rgb_path, f\"{image_id:06d}.png\")\n",
    "img = cv2.imread(image_path)\n",
    "plt.imshow(img)"
   ]
  },
  {
   "cell_type": "markdown",
   "metadata": {},
   "source": [
    "---\n",
    "## Homography Transformation\n",
    "\n",
    "Key points:\n",
    "* __homography matrix__ is a 3x3 transforational matrix that maps the points in one image to the corresponding points in another image. \n",
    "* In the context of 6D Pose estimation, we use __homography matrix__ for camera calibration and image stitching\n",
    "* __homography matrix__ is calculated a 2 step approach. \n",
    "    1. First we `detect` the corners _(at least 4 points, think bounding box or fature detection)_, per image. The means of which this corner detection varies, easiest means is by using some sort of matching features algorithm such as SIFT (see appendix for example).\n",
    "    2. homog-geneous coordinate estimation where we use another algorthm, most commonly used is RANSAC to peforma robust outliner detection.\n",
    "\n",
    "\n",
    "The benefit of using __homogeneous coordinates__ we can then represent the homography matrix ina 3x3 which has a 8 degrees of freedom. represented as :\n",
    "\n",
    "$s \\begin{bmatrix} x^{'} \\\\ y^{'} \\\\ 1 \\end{bmatrix} = H \\begin{bmatrix} x \\\\ y \\\\ 1 \\end{bmatrix} = \\begin{bmatrix} h_{11} & h_{12} & h_{13} \\\\ h_{21} & h_{22} & h_{23} \\\\ h_{31} & h_{32} & h_{33} \\end{bmatrix} \\begin{bmatrix} x \\\\ y \\\\ 1 \\end{bmatrix}$\n",
    "\n",
    "\n"
   ]
  },
  {
   "cell_type": "markdown",
   "metadata": {},
   "source": [
    "### Quick refresher on Camera Calibration\n",
    "\n",
    "Recall in the Camera Matrix notebook, the means of parameterizing the calibration matrix is represented by matrix `K`. When we combine the __camera intrinsics__ and __camera extrensics__ matrixes together we obtain a single _3x4 camera matrix_\n",
    "\n",
    "\n",
    "![](https://www.mathworks.com/help/vision/ug/calibration_cameramodel_coords.png)\n",
    "\n",
    "The camera calibration estimations the parameters of the lens and image. We take those values which are provided at the time of capturing the image with a video camera parameter. We can then use the intrinsics and extrensics to calculate the camera projections. \n",
    "\n",
    "Key points: \n",
    "- __extrinsics parameters__ enable us to trun the _\"world coordinates\"_ into _\"camera coordinates\"_.\n",
    "- __intrensics parametes__ enable us to transform the camera coordinates into pixel coordinates\n",
    "\n",
    "below provides a great visual to get the intuition. See the previous notebook for more details on Camera Calibration. \n",
    "\n",
    "![](https://www.mathworks.com/help/vision/ug/calibration_coordinate_blocks.png)\n",
    "\n",
    "references: https://jp.mathworks.com/help/vision/ug/camera-calibration.html?lang=en"
   ]
  },
  {
   "cell_type": "raw",
   "metadata": {},
   "source": [
    "camera_params = os.path.join(scene_path, 'scene_camera.json')\n",
    "intrinsics  = load_params_from_json(camera_params)\n",
    "intrinsics['0']"
   ]
  },
  {
   "cell_type": "markdown",
   "metadata": {},
   "source": [
    "### Camera Intrinsic Parameters\n",
    "\n",
    "If using a BOP dataset, such as in this example. the publically available 3D models are provided the coorponding __camera intrinsic parameters__ for each image as `K`, these can be demonstrated as our world coordinate points. In order to convert our known world coordinate points for the camera to the pixel coordinates that we wich to project, we need 2 specific values: \n",
    "1. Rotation Matrix\n",
    "2. Translition matrix"
   ]
  },
  {
   "cell_type": "code",
   "execution_count": 25,
   "metadata": {},
   "outputs": [
    {
     "data": {
      "text/plain": [
       "{'cam_params_path': '/mnt/bop20/bop/lmo/camera.json',\n",
       " 'im_size': (640, 480),\n",
       " 'K': array([[572.4114 ,   0.     , 325.2611 ],\n",
       "        [  0.     , 573.57043, 242.04899],\n",
       "        [  0.     ,   0.     ,   1.     ]]),\n",
       " 'depth_scale': 1.0}"
      ]
     },
     "execution_count": 25,
     "metadata": {},
     "output_type": "execute_result"
    }
   ],
   "source": [
    "sys.path.append(\"/home/redne/pvnet/Pix2Pose_nl/bop_toolkit/\")\n",
    "from bop_toolkit_lib import inout, dataset_params\n",
    "\n",
    "cam_param_global = dataset_params.get_camera_params(bop_path, dataset)\n",
    "im_width,im_height =cam_param_global['im_size'] \n",
    "cam_param_global\n",
    "\n",
    "# same information provided at the camera scene level\n",
    "#scene_camera = load_params_from_json(os.path.join(scene_path, \"scene_camera.json\"))\n",
    "#scene_camera['0']"
   ]
  },
  {
   "cell_type": "code",
   "execution_count": 61,
   "metadata": {},
   "outputs": [
    {
     "data": {
      "text/plain": [
       "array([[572.4114 ,   0.     , 325.2611 ],\n",
       "       [  0.     , 573.57043, 242.04899],\n",
       "       [  0.     ,   0.     ,   1.     ]])"
      ]
     },
     "execution_count": 61,
     "metadata": {},
     "output_type": "execute_result"
    }
   ],
   "source": [
    "K = cam_param_global['K']\n",
    "K"
   ]
  },
  {
   "cell_type": "code",
   "execution_count": 57,
   "metadata": {},
   "outputs": [
    {
     "data": {
      "image/png": "[encoded data removed]",
      "text/plain": [
       "<Figure size 780x520 with 1 Axes>"
      ]
     },
     "metadata": {
      "needs_background": "light"
     },
     "output_type": "display_data"
    }
   ],
   "source": [
    "# https://nbviewer.jupyter.org/github/polygon-software/python-visual-odometry/blob/master/Chapter%203%20-%20Camera%20Projection.ipynb\n",
    "# sample image with grayscale and dimensionality reduced to 2\n",
    "img = cv2.imread('/mnt/bop20/bop/lmo/train/000001/rgb/000000.png')[:,:,0]\n",
    "plt.imshow(img, cmap='gray')\n",
    "plt.show()"
   ]
  },
  {
   "cell_type": "code",
   "execution_count": 62,
   "metadata": {},
   "outputs": [
    {
     "data": {
      "text/plain": [
       "array([[ 0.9972, -0.0699,  0.0263, -0.107 ],\n",
       "       [ 0.0553,  0.9299,  0.3598, -0.1471],\n",
       "       [-0.0501, -0.3572,  0.9312,  0.3985]])"
      ]
     },
     "execution_count": 62,
     "metadata": {},
     "output_type": "execute_result"
    }
   ],
   "source": [
    "# https://nbviewer.jupyter.org/github/polygon-software/python-visual-odometry/blob/master/Chapter%203%20-%20Camera%20Projection.ipynb\n",
    "# Relative camera position [R|t] in respect wo world coordinate system\n",
    "# Rotatio matrix in radian\n",
    "R = np.array(\n",
    "    [[0.9972,   -0.0699,  0.0263],\n",
    "     [0.0553,    0.9299,  0.3598],\n",
    "     [-0.0501,  -0.3572,  0.9312]]\n",
    ")\n",
    "\n",
    "# Translation vector in meters\n",
    "t = np.array(\n",
    "    [[-0.1070],\n",
    "     [-0.1471],\n",
    "     [0.3985 ]]\n",
    ")\n",
    "\n",
    "# Transformation matrix T = [R|t]\n",
    "T = np.concatenate((R, t), axis=1)\n",
    "T"
   ]
  },
  {
   "cell_type": "code",
   "execution_count": 63,
   "metadata": {},
   "outputs": [
    {
     "data": {
      "text/plain": [
       "array([[171.56468896],\n",
       "       [ 30.32449752]])"
      ]
     },
     "execution_count": 63,
     "metadata": {},
     "output_type": "execute_result"
    }
   ],
   "source": [
    "# Origin in World Coordinate system, located at (X,Y,Z,1) = (0, 0, 0, 1)\n",
    "Pw = np.array(\n",
    "    [[0],\n",
    "     [0],\n",
    "     [0],\n",
    "     [1]]\n",
    ")\n",
    "\n",
    "# Project (Xw, Yw, Zw, 0) into cameras coordinate system\n",
    "Pc = np.matmul(T, Pw)\n",
    "\n",
    "# Apply camera intrinsics to map (Xc, Yc, Zc) to p=(x, y, z)\n",
    "p = np.matmul(K, Pc)\n",
    "\n",
    "# Normalize by z to get (u,v,1)\n",
    "uv = (p / p[2][0])[:-1]\n",
    "uv"
   ]
  },
  {
   "cell_type": "code",
   "execution_count": 64,
   "metadata": {},
   "outputs": [
    {
     "data": {
      "image/png": "[encoded data removed]",
      "text/plain": [
       "<Figure size 780x520 with 1 Axes>"
      ]
     },
     "metadata": {
      "needs_background": "light"
     },
     "output_type": "display_data"
    }
   ],
   "source": [
    "#Plot World origin (0, 0, 0) on images normalized UV-Pixel coordinates\n",
    "plt.imshow(img, cmap='gray')\n",
    "plt.scatter(x=uv[0], y=uv[1], c='r', s=10)\n",
    "plt.show()"
   ]
  },
  {
   "cell_type": "code",
   "execution_count": null,
   "metadata": {},
   "outputs": [],
   "source": []
  },
  {
   "cell_type": "code",
   "execution_count": 26,
   "metadata": {},
   "outputs": [
    {
     "data": {
      "text/plain": [
       "{'obj_ids': [1, 5, 6, 8, 9, 10, 11, 12],\n",
       " 'symmetric_obj_ids': [10, 11],\n",
       " 'model_tpath': '/mnt/bop20/bop/lmo/models/obj_{obj_id:06d}.ply',\n",
       " 'models_info_path': '/mnt/bop20/bop/lmo/models/models_info.json'}"
      ]
     },
     "execution_count": 26,
     "metadata": {},
     "output_type": "execute_result"
    }
   ],
   "source": [
    "model_params = dataset_params.get_model_params(bop_path, dataset)\n",
    "model_params"
   ]
  },
  {
   "cell_type": "markdown",
   "metadata": {},
   "source": [
    "### 3D object Models\n"
   ]
  },
  {
   "cell_type": "code",
   "execution_count": 46,
   "metadata": {},
   "outputs": [
    {
     "data": {
      "text/plain": [
       "{'diameter': 102.099,\n",
       " 'min_x': -37.9343,\n",
       " 'min_y': -38.7996,\n",
       " 'min_z': -45.8845,\n",
       " 'size_x': 75.8686,\n",
       " 'size_y': 77.5992,\n",
       " 'size_z': 91.769}"
      ]
     },
     "execution_count": 46,
     "metadata": {},
     "output_type": "execute_result"
    }
   ],
   "source": [
    "model_info = load_params_from_json(model_params['models_info_path'])\n",
    "model_info['1']"
   ]
  },
  {
   "cell_type": "code",
   "execution_count": 42,
   "metadata": {},
   "outputs": [
    {
     "name": "stdout",
     "output_type": "stream",
     "text": [
      "Loading the 3D model\n",
      "3D model registration: /mnt/bop20/bop/lmo/models/obj_000001.ply\n",
      "vertices:\n",
      "[[-0.0230565  0.0174191 -0.006756 ]\n",
      " [-0.0128773 -0.0295554 -0.0277156]\n",
      " [-0.0322776 -0.0177052 -0.0324505]\n",
      " ...\n",
      " [ 0.0004914  0.0231186 -0.0398524]\n",
      " [-0.0157176 -0.0267462 -0.0186286]\n",
      " [-0.0132041  0.0083638  0.0396843]]\n",
      "mesh:\n",
      "TriangleMesh with 5841 points and 11678 triangles.\n",
      "faces:\n",
      "[[3639 3638 4246]\n",
      " [5459 5141 1073]\n",
      " [5140 1073 5141]\n",
      " ...\n",
      " [2581  223 5358]\n",
      " [1665 1682  570]\n",
      " [1667 1665  570]]\n"
     ]
    }
   ],
   "source": [
    "import open3d as o3d\n",
    "print(\"Loading the 3D model\")\n",
    "ply_fn = os.path.join(dataset_path,f\"models/obj_{object_id:06d}.ply\")\n",
    "mesh = o3d.read_triangle_mesh(ply_fn)\n",
    "vertices =np.array(mesh.vertices)/1000.0 #change to m scale (BOP models are in mm scale)\n",
    "faces = np.array(mesh.triangles)\n",
    "\n",
    "print(f'3D model registration: {ply_fn}')\n",
    "print(f'vertices:\\n{vertices}')\n",
    "print(f'mesh:\\n{mesh}')\n",
    "print(f'faces:\\n{faces}')"
   ]
  },
  {
   "cell_type": "markdown",
   "metadata": {},
   "source": [
    "### Ground Truth\n",
    "\n",
    "The `scene_gt.json` file details the __ground truth poses__ for each of the objects in the scene. The ground truths details 3 variables:\n",
    "1. `cam_R_m2c` which is the 3x3 rotation matrix\n",
    "2. `cam_t_m2c` which is a 3x1 translation vector\n",
    "3. `obj_id` the cooresponding idof the object in the image. \n",
    "\n"
   ]
  },
  {
   "cell_type": "code",
   "execution_count": 47,
   "metadata": {},
   "outputs": [
    {
     "data": {
      "text/plain": [
       "[{'cam_R_m2c': [-0.52573111,\n",
       "   0.85065081,\n",
       "   0.0,\n",
       "   0.84825128,\n",
       "   0.52424812,\n",
       "   -0.07505775,\n",
       "   -0.06384793,\n",
       "   -0.03946019,\n",
       "   -0.99717919],\n",
       "  'cam_t_m2c': [-0.0, 0.0, 400.0],\n",
       "  'obj_id': 1}]"
      ]
     },
     "execution_count": 47,
     "metadata": {},
     "output_type": "execute_result"
    }
   ],
   "source": [
    "gts = load_params_from_json(os.path.join(scene_path, \"scene_gt.json\"))\n",
    "gts['1']"
   ]
  },
  {
   "cell_type": "code",
   "execution_count": null,
   "metadata": {},
   "outputs": [],
   "source": []
  },
  {
   "cell_type": "code",
   "execution_count": null,
   "metadata": {},
   "outputs": [],
   "source": []
  },
  {
   "cell_type": "code",
   "execution_count": 24,
   "metadata": {},
   "outputs": [
    {
     "data": {
      "text/plain": [
       "'lmo'"
      ]
     },
     "execution_count": 24,
     "metadata": {},
     "output_type": "execute_result"
    }
   ],
   "source": [
    "dataset"
   ]
  },
  {
   "cell_type": "code",
   "execution_count": 37,
   "metadata": {},
   "outputs": [
    {
     "ename": "KeyError",
     "evalue": "'obj_id'",
     "output_type": "error",
     "traceback": [
      "\u001b[0;31m---------------------------------------------------------------------------\u001b[0m",
      "\u001b[0;31mKeyError\u001b[0m                                  Traceback (most recent call last)",
      "\u001b[0;32m<ipython-input-37-bf87b50db136>\u001b[0m in \u001b[0;36m<module>\u001b[0;34m\u001b[0m\n\u001b[0;32m----> 1\u001b[0;31m \u001b[0mmodel_params\u001b[0m\u001b[0;34m[\u001b[0m\u001b[0;34m'model_tpath'\u001b[0m\u001b[0;34m]\u001b[0m\u001b[0;34m.\u001b[0m\u001b[0mformat\u001b[0m\u001b[0;34m(\u001b[0m\u001b[0;34m)\u001b[0m\u001b[0;34m\u001b[0m\u001b[0;34m\u001b[0m\u001b[0m\n\u001b[0m",
      "\u001b[0;31mKeyError\u001b[0m: 'obj_id'"
     ]
    }
   ],
   "source": [
    "model_params['model_tpath'].format('obj_id')"
   ]
  },
  {
   "cell_type": "code",
   "execution_count": 38,
   "metadata": {},
   "outputs": [
    {
     "ename": "NameError",
     "evalue": "name 'obj_id' is not defined",
     "output_type": "error",
     "traceback": [
      "\u001b[0;31m---------------------------------------------------------------------------\u001b[0m",
      "\u001b[0;31mNameError\u001b[0m                                 Traceback (most recent call last)",
      "\u001b[0;32m<ipython-input-38-623be33a200b>\u001b[0m in \u001b[0;36m<module>\u001b[0;34m\u001b[0m\n\u001b[0;32m----> 1\u001b[0;31m \u001b[0mobj_id\u001b[0m\u001b[0;34m\u001b[0m\u001b[0;34m\u001b[0m\u001b[0m\n\u001b[0m",
      "\u001b[0;31mNameError\u001b[0m: name 'obj_id' is not defined"
     ]
    }
   ],
   "source": [
    "obj_id = 'obj'"
   ]
  },
  {
   "cell_type": "code",
   "execution_count": 28,
   "metadata": {},
   "outputs": [
    {
     "data": {
      "text/plain": [
       "{'cam_K': [572.4114, 0.0, 325.2611, 0.0, 573.57043, 242.04899, 0.0, 0.0, 1.0],\n",
       " 'depth_scale': 1.0,\n",
       " 'view_level': 1}"
      ]
     },
     "execution_count": 28,
     "metadata": {},
     "output_type": "execute_result"
    }
   ],
   "source": [
    "camera_params = os.path.join(scene_path, 'scene_camera.json')\n",
    "intrinsics  = load_params_from_json(camera_params)\n",
    "intrinsics['0']"
   ]
  },
  {
   "cell_type": "markdown",
   "metadata": {},
   "source": [
    "#### Load scen parameters\n",
    "\n",
    "```json\n",
    "\n",
    "{'dataset': '/mnt/bop20hb/bop/hb/',\n",
    " 'scene': '/mnt/bop20hb/bop/hb/train_pbr/000001',\n",
    " 'object_id': 1,\n",
    " 'rgb_path': '/mnt/bop20hb/bop/hb/train_pbr/000001/rgb',\n",
    " 'depth_path': '/mnt/bop20hb/bop/hb/train_pbr/000001/depth',\n",
    " 'mask_path': '/mnt/bop20hb/bop/hb/train_pbr/000001/mask_visb',\n",
    " 'model_path': '/mnt/bop20hb/bop/hb/models/obj_000001.ply',\n",
    " 'model_info': None,\n",
    " 'pointcld_path': '/mnt/bop20hb/bop/hb/models_eval/obj_000001.ply',\n",
    " 'scene_intrinsics_path': '/mnt/bop20hb/bop/hb/train_pbr/000001/scene_camera.json',\n",
    " 'scene_intrinsics': {0: {'cam_K': array([[537.4799    ,   0.        , 318.89651492],\n",
    "          [  0.        , 536.1447    , 238.37809756],\n",
    "          [  0.        ,   0.        ,   1.        ]]),\n",
    "   'depth_scale': 0.1},\n",
    "  1: {'cam_K': array([[537.4799    ,   0.        , 318.89651492],\n",
    "          [  0.        , 536.1447    , 238.37809756],\n",
    "          [  0.        ,   0.        ,   1.        ]]),\n",
    "   'depth_scale': 0.1},\n",
    "  ...\n",
    " }\n",
    "```"
   ]
  },
  {
   "cell_type": "code",
   "execution_count": 55,
   "metadata": {},
   "outputs": [
    {
     "data": {
      "text/plain": [
       "'/mnt/bop20/bop/lmo/train/000001'"
      ]
     },
     "execution_count": 55,
     "metadata": {},
     "output_type": "execute_result"
    }
   ],
   "source": [
    "scene_path"
   ]
  },
  {
   "cell_type": "code",
   "execution_count": 22,
   "metadata": {},
   "outputs": [],
   "source": [
    "gts = load_params_from_json(os.path.join(scene_path, \"scene_gt.json\"))\n",
    "gt_info = load_params_from_json(os.path.join(scene_path, \"scene_gt_info.json\"))"
   ]
  },
  {
   "cell_type": "code",
   "execution_count": 25,
   "metadata": {},
   "outputs": [
    {
     "data": {
      "text/plain": [
       "[{'cam_R_m2c': [-0.52573111,\n",
       "   0.85065081,\n",
       "   0.0,\n",
       "   0.84825128,\n",
       "   0.52424812,\n",
       "   -0.07505775,\n",
       "   -0.06384793,\n",
       "   -0.03946019,\n",
       "   -0.99717919],\n",
       "  'cam_t_m2c': [-0.0, 0.0, 400.0],\n",
       "  'obj_id': 1}]"
      ]
     },
     "execution_count": 25,
     "metadata": {},
     "output_type": "execute_result"
    }
   ],
   "source": [
    "gts[\"1\"]"
   ]
  },
  {
   "cell_type": "code",
   "execution_count": 1,
   "metadata": {},
   "outputs": [],
   "source": [
    "js = {\n",
    "    \"img_height\": 480,\n",
    "    \"img_width\": 640,\n",
    "    \"K\": [[\n",
    "        615.0,\n",
    "        0.0,\n",
    "        320.0\n",
    "      ],\n",
    "      [\n",
    "        0.0,\n",
    "        615.0,\n",
    "        240.0\n",
    "      ],\n",
    "      [\n",
    "        0.0,\n",
    "        0.0,\n",
    "        1.0\n",
    "      ]\n",
    "    ]\n",
    "}"
   ]
  },
  {
   "cell_type": "code",
   "execution_count": 2,
   "metadata": {},
   "outputs": [
    {
     "data": {
      "text/plain": [
       "{'img_height': 480,\n",
       " 'img_width': 640,\n",
       " 'K': [[615.0, 0.0, 320.0], [0.0, 615.0, 240.0], [0.0, 0.0, 1.0]]}"
      ]
     },
     "execution_count": 2,
     "metadata": {},
     "output_type": "execute_result"
    }
   ],
   "source": [
    "js"
   ]
  },
  {
   "cell_type": "code",
   "execution_count": 26,
   "metadata": {},
   "outputs": [
    {
     "data": {
      "text/plain": [
       "[{'bbox_obj': [267, 193, 107, 88],\n",
       "  'bbox_visib': [267, 193, 107, 88],\n",
       "  'px_count_all': 7184,\n",
       "  'px_count_valid': 7184,\n",
       "  'px_count_visib': 7184,\n",
       "  'visib_fract': 1.0}]"
      ]
     },
     "execution_count": 26,
     "metadata": {},
     "output_type": "execute_result"
    }
   ],
   "source": [
    "gt_info[\"1\"]"
   ]
  },
  {
   "cell_type": "code",
   "execution_count": 23,
   "metadata": {},
   "outputs": [],
   "source": [
    "point_threshold = 0.4\n",
    "rotation_threshold = 45"
   ]
  },
  {
   "cell_type": "code",
   "execution_count": 20,
   "metadata": {},
   "outputs": [],
   "source": [
    "visable_obj = list() # list of visable objects"
   ]
  },
  {
   "cell_type": "markdown",
   "metadata": {},
   "source": [
    "### Ransac Voting\n",
    "\n",
    "- A, B is a pair of matching points (A.i matches B.i)\n",
    "- maxiters maximum number of iterations,\n",
    "- `p` model confidence\n",
    "- `th` to determine whether the threshold of the inner point\n"
   ]
  },
  {
   "cell_type": "code",
   "execution_count": 6,
   "metadata": {},
   "outputs": [],
   "source": [
    "img = cv2.imread('/mnt/bop20/bop/lmo/train/000001/rgb/000000.png',0)"
   ]
  },
  {
   "cell_type": "code",
   "execution_count": 7,
   "metadata": {},
   "outputs": [],
   "source": [
    "import matplotlib as mpl\n",
    "mpl.rcParams['figure.dpi'] = 130"
   ]
  },
  {
   "cell_type": "code",
   "execution_count": 8,
   "metadata": {},
   "outputs": [
    {
     "data": {
      "text/plain": [
       "(<matplotlib.axes._subplots.AxesSubplot at 0x7f4652b70c50>,\n",
       " <matplotlib.image.AxesImage at 0x7f4652a05588>)"
      ]
     },
     "execution_count": 8,
     "metadata": {},
     "output_type": "execute_result"
    },
    {
     "data": {
      "image/png": "[encoded data removed]",
      "text/plain": [
       "<Figure size 780x520 with 2 Axes>"
      ]
     },
     "metadata": {
      "needs_background": "light"
     },
     "output_type": "display_data"
    }
   ],
   "source": [
    "image_1 = '/mnt/bop20/bop/lmo/train/000001/rgb/000000.png'\n",
    "img1 = cv2.imread(image_1, cv2.IMREAD_COLOR)\n",
    "\n",
    "image_2 = '/mnt/bop20/bop/lmo/train/000001/rgb/000001.png'\n",
    "img2 = cv2.imread(image_2,cv2.IMREAD_COLOR)\n",
    "\n",
    "plt.subplot(121), plt.imshow(img1)\n",
    "plt.subplot(122), plt.imshow(img2)"
   ]
  },
  {
   "cell_type": "markdown",
   "metadata": {},
   "source": [
    "### Generate KeyPoints FAST!!\n",
    "\n",
    "To generate the mmatching keypoints, there are a ton a algorithms, but for a quick and easy demo, __FAST - Features from Acclerated Segment Test__ is easy to implemented, given it is a package of `cv2`. "
   ]
  },
  {
   "cell_type": "code",
   "execution_count": 9,
   "metadata": {},
   "outputs": [],
   "source": [
    "## convert images to grayscale\n",
    "im1g = cv2.cvtColor(img1, cv2.COLOR_BGR2GRAY)\n",
    "im2g = cv2.cvtColor(img2, cv2.COLOR_BGR2GRAY)\n",
    "\n",
    "# ORB - Fusion FAST keypoint detector \n",
    "# use for finding the image keypoint desciptors\n",
    "orb = cv2.ORB_create(500)\n",
    "keypoints1, descriptors1 = orb.detectAndCompute(im1g, None)\n",
    "keypoints2, descriptors2 = orb.detectAndCompute(im2g, None)"
   ]
  },
  {
   "cell_type": "markdown",
   "metadata": {},
   "source": [
    "Match features"
   ]
  },
  {
   "cell_type": "code",
   "execution_count": 10,
   "metadata": {},
   "outputs": [],
   "source": [
    "matcher = cv2.DescriptorMatcher_create(cv2.DESCRIPTOR_MATCHER_BRUTEFORCE_HAMMING)\n",
    "matches = matcher.match(descriptors1, descriptors2, None)"
   ]
  },
  {
   "cell_type": "code",
   "execution_count": 11,
   "metadata": {},
   "outputs": [
    {
     "name": "stdout",
     "output_type": "stream",
     "text": [
      "properties of the matched discriptors\n"
     ]
    },
    {
     "data": {
      "text/plain": [
       "(12.0, 33, 0, 0)"
      ]
     },
     "execution_count": 11,
     "metadata": {},
     "output_type": "execute_result"
    }
   ],
   "source": [
    "print(\"properties of the matched discriptors\")\n",
    "matches[0].distance,matches[0].trainIdx,matches[0].queryIdx,matches[0].imgIdx"
   ]
  },
  {
   "cell_type": "code",
   "execution_count": 12,
   "metadata": {},
   "outputs": [],
   "source": [
    "matches.sort(key=lambda x: x.distance, reverse=False)"
   ]
  },
  {
   "cell_type": "code",
   "execution_count": 13,
   "metadata": {},
   "outputs": [],
   "source": [
    "# Remove not so good matches\n",
    "threshold_ = 0.3\n",
    "numGoodMatches = int(len(matches) * threshold_)\n",
    "matches = matches[:numGoodMatches]"
   ]
  },
  {
   "cell_type": "code",
   "execution_count": 14,
   "metadata": {},
   "outputs": [],
   "source": [
    "imMatches = cv2.drawMatches(img1, keypoints1, img2, keypoints2, matches, None)"
   ]
  },
  {
   "cell_type": "code",
   "execution_count": 15,
   "metadata": {},
   "outputs": [
    {
     "data": {
      "text/plain": [
       "<matplotlib.image.AxesImage at 0x7f46529b67b8>"
      ]
     },
     "execution_count": 15,
     "metadata": {},
     "output_type": "execute_result"
    },
    {
     "data": {
      "image/png": "[encoded data removed]",
      "text/plain": [
       "<Figure size 780x520 with 1 Axes>"
      ]
     },
     "metadata": {
      "needs_background": "light"
     },
     "output_type": "display_data"
    }
   ],
   "source": [
    "plt.imshow(imMatches)"
   ]
  },
  {
   "cell_type": "code",
   "execution_count": 16,
   "metadata": {},
   "outputs": [],
   "source": [
    "# extract the locaitons of the extracted matched that was > threashold\n",
    "points1 = np.zeros((len(matches), 2), dtype=np.float32)\n",
    "points2 = np.zeros((len(matches), 2), dtype=np.float32)"
   ]
  },
  {
   "cell_type": "code",
   "execution_count": 17,
   "metadata": {},
   "outputs": [
    {
     "data": {
      "text/plain": [
       "array([[0., 0.],\n",
       "       [0., 0.],\n",
       "       [0., 0.],\n",
       "       [0., 0.],\n",
       "       [0., 0.],\n",
       "       [0., 0.],\n",
       "       [0., 0.],\n",
       "       [0., 0.],\n",
       "       [0., 0.],\n",
       "       [0., 0.],\n",
       "       [0., 0.],\n",
       "       [0., 0.],\n",
       "       [0., 0.],\n",
       "       [0., 0.],\n",
       "       [0., 0.],\n",
       "       [0., 0.],\n",
       "       [0., 0.],\n",
       "       [0., 0.],\n",
       "       [0., 0.],\n",
       "       [0., 0.],\n",
       "       [0., 0.],\n",
       "       [0., 0.],\n",
       "       [0., 0.],\n",
       "       [0., 0.],\n",
       "       [0., 0.],\n",
       "       [0., 0.]], dtype=float32)"
      ]
     },
     "execution_count": 17,
     "metadata": {},
     "output_type": "execute_result"
    }
   ],
   "source": [
    "points2"
   ]
  },
  {
   "cell_type": "code",
   "execution_count": 18,
   "metadata": {},
   "outputs": [
    {
     "name": "stdout",
     "output_type": "stream",
     "text": [
      "8.0 33 14 0\n",
      "8.0 61 35 0\n",
      "10.0 33 23 0\n",
      "10.0 61 34 0\n",
      "11.0 45 44 0\n",
      "11.0 93 83 0\n",
      "12.0 33 0 0\n",
      "12.0 17 22 0\n",
      "12.0 79 58 0\n",
      "12.0 98 79 0\n",
      "12.0 89 82 0\n",
      "13.0 74 46 0\n",
      "13.0 98 68 0\n",
      "14.0 19 10 0\n",
      "14.0 3 11 0\n",
      "14.0 50 36 0\n",
      "14.0 59 45 0\n",
      "14.0 74 57 0\n",
      "14.0 84 67 0\n",
      "14.0 89 74 0\n",
      "14.0 81 77 0\n",
      "14.0 94 78 0\n",
      "15.0 11 7 0\n",
      "15.0 31 15 0\n",
      "15.0 74 47 0\n",
      "16.0 45 33 0\n"
     ]
    }
   ],
   "source": [
    "for i, match in enumerate(matches):\n",
    "\n",
    "    points1[i, :] = keypoints1[match.queryIdx].pt\n",
    "    points2[i, :] = keypoints2[match.trainIdx].pt\n",
    "    print(match.distance,match.trainIdx,match.queryIdx,match.imgIdx)"
   ]
  },
  {
   "cell_type": "code",
   "execution_count": 19,
   "metadata": {},
   "outputs": [],
   "source": [
    "# Find homography\n",
    "h, mask = cv2.findHomography(points1, points2, cv2.RANSAC)"
   ]
  },
  {
   "cell_type": "code",
   "execution_count": 20,
   "metadata": {},
   "outputs": [
    {
     "data": {
      "text/plain": [
       "array([[-7.91305928e-01, -4.86461211e-01,  6.68604267e+02],\n",
       "       [ 5.95984533e-01, -2.60087857e-01,  8.70164929e+01],\n",
       "       [-8.68318626e-04,  7.74500777e-04,  1.00000000e+00]])"
      ]
     },
     "execution_count": 20,
     "metadata": {},
     "output_type": "execute_result"
    }
   ],
   "source": [
    "h"
   ]
  },
  {
   "cell_type": "code",
   "execution_count": 21,
   "metadata": {},
   "outputs": [],
   "source": [
    "# Use homography\n",
    "height, width, channels = img2.shape\n",
    "im1Reg = cv2.warpPerspective(img1, h, (width, height))"
   ]
  },
  {
   "cell_type": "code",
   "execution_count": 22,
   "metadata": {},
   "outputs": [
    {
     "data": {
      "text/plain": [
       "<matplotlib.image.AxesImage at 0x7f4652991e48>"
      ]
     },
     "execution_count": 22,
     "metadata": {},
     "output_type": "execute_result"
    },
    {
     "data": {
      "image/png": "[encoded data removed]",
      "text/plain": [
       "<Figure size 780x520 with 1 Axes>"
      ]
     },
     "metadata": {
      "needs_background": "light"
     },
     "output_type": "display_data"
    }
   ],
   "source": [
    "plt.imshow(im1Reg)"
   ]
  },
  {
   "cell_type": "code",
   "execution_count": 23,
   "metadata": {},
   "outputs": [
    {
     "data": {
      "text/plain": [
       "Text(0.5,1,'answer')"
      ]
     },
     "execution_count": 23,
     "metadata": {},
     "output_type": "execute_result"
    },
    {
     "data": {
      "image/png": "[encoded data removed]",
      "text/plain": [
       "<Figure size 780x520 with 2 Axes>"
      ]
     },
     "metadata": {
      "needs_background": "light"
     },
     "output_type": "display_data"
    }
   ],
   "source": [
    "plt.subplot(121), plt.imshow(imMatches)\n",
    "plt.title('matches.jpg')\n",
    "plt.subplot(122), plt.imshow(im1Reg)\n",
    "plt.title('answer')"
   ]
  },
  {
   "cell_type": "code",
   "execution_count": 43,
   "metadata": {},
   "outputs": [],
   "source": [
    "def compute_projection(points_3D, transformation, internal_calibration):\n",
    "    projections_2d = np.zeros((2, points_3D.shape[1]), dtype='float32')\n",
    "    camera_projection = (internal_calibration.dot(transformation)).dot(points_3D)\n",
    "    projections_2d[0, :] = camera_projection[0, :]/camera_projection[2, :]\n",
    "    projections_2d[1, :] = camera_projection[1, :]/camera_projection[2, :]\n",
    "    return projections_2d"
   ]
  },
  {
   "cell_type": "markdown",
   "metadata": {},
   "source": [
    "### Appendix\n",
    "\n",
    "__SIFT Algorithm__\n",
    "\n",
    "\n",
    "\n",
    "resource: https://iq.opengenus.org/mean-shift-clustering-algorithm/#:~:text=%20Understanding%20the%20algorithm%20%201%20STEP%201%3A,4%20STEP%204%3A%20Repeat%20till%20convergence.%20More%20\n"
   ]
  },
  {
   "cell_type": "code",
   "execution_count": null,
   "metadata": {},
   "outputs": [],
   "source": []
  },
  {
   "cell_type": "code",
   "execution_count": null,
   "metadata": {},
   "outputs": [],
   "source": []
  },
  {
   "cell_type": "markdown",
   "metadata": {},
   "source": [
    "---\n",
    "# Appendix"
   ]
  },
  {
   "cell_type": "code",
   "execution_count": null,
   "metadata": {},
   "outputs": [],
   "source": []
  },
  {
   "cell_type": "code",
   "execution_count": null,
   "metadata": {},
   "outputs": [],
   "source": []
  },
  {
   "cell_type": "code",
   "execution_count": 13,
   "metadata": {},
   "outputs": [],
   "source": [
    "\n",
    "class MeshPly:\n",
    "    def __init__(self, filename, color=[0., 0., 0.]):\n",
    "\n",
    "        f = open(filename, 'r')\n",
    "        self.vertices = []\n",
    "        self.colors = []\n",
    "        self.indices = []\n",
    "        self.normals = []\n",
    "\n",
    "        vertex_mode = False\n",
    "        face_mode = False\n",
    "\n",
    "        nb_vertices = 0\n",
    "        nb_faces = 0\n",
    "\n",
    "        idx = 0\n",
    "\n",
    "        with f as open_file_object:\n",
    "            for line in open_file_object:\n",
    "                elements = line.split()\n",
    "                if vertex_mode:\n",
    "                    self.vertices.append([float(i) for i in elements[:3]])\n",
    "                    self.normals.append([float(i) for i in elements[3:6]])\n",
    "\n",
    "                    if elements[6:9]:\n",
    "                        self.colors.append([float(i) / 255. for i in elements[6:9]])\n",
    "                    else:\n",
    "                        self.colors.append([float(i) / 255. for i in color])\n",
    "\n",
    "                    idx += 1\n",
    "                    if idx == nb_vertices:\n",
    "                        vertex_mode = False\n",
    "                        face_mode = True\n",
    "                        idx = 0\n",
    "                elif face_mode:\n",
    "                    self.indices.append([float(i) for i in elements[1:4]])\n",
    "                    idx += 1\n",
    "                    if idx == nb_faces:\n",
    "                        face_mode = False\n",
    "                elif elements[0] == 'element':\n",
    "                    if elements[1] == 'vertex':\n",
    "                        nb_vertices = int(elements[2])\n",
    "                    elif elements[1] == 'face':\n",
    "                        nb_faces = int(elements[2])\n",
    "                elif elements[0] == 'end_header':\n",
    "                    vertex_mode = True\n"
   ]
  },
  {
   "cell_type": "code",
   "execution_count": 14,
   "metadata": {},
   "outputs": [],
   "source": [
    "ptcld_path = os.path.join(dataset_path, \"models/obj_000001.ply\")\n",
    "mesh = MeshPly(ptcld_path)\n",
    "vertices = np.c_[np.array(mesh.vertices), np.ones((len(mesh.vertices), 1))].transpose()\n",
    "corners3D = get_3D_corners(vertices)"
   ]
  },
  {
   "cell_type": "code",
   "execution_count": null,
   "metadata": {},
   "outputs": [],
   "source": []
  },
  {
   "cell_type": "code",
   "execution_count": null,
   "metadata": {},
   "outputs": [],
   "source": []
  },
  {
   "cell_type": "code",
   "execution_count": null,
   "metadata": {},
   "outputs": [],
   "source": []
  },
  {
   "cell_type": "code",
   "execution_count": 18,
   "metadata": {},
   "outputs": [],
   "source": [
    "def compute_projection(points_3D, transformation, internal_calibration):\n",
    "    projections_2d = np.zeros((2, points_3D.shape[1]), dtype='float32')\n",
    "    camera_projection = (internal_calibration.dot(transformation)).dot(points_3D)\n",
    "    projections_2d[0, :] = camera_projection[0, :]/camera_projection[2, :]\n",
    "    projections_2d[1, :] = camera_projection[1, :]/camera_projection[2, :]\n",
    "    return projections_2d"
   ]
  },
  {
   "cell_type": "code",
   "execution_count": null,
   "metadata": {},
   "outputs": [],
   "source": [
    "compute_projection(corners3D, )"
   ]
  },
  {
   "cell_type": "code",
   "execution_count": 7,
   "metadata": {},
   "outputs": [
    {
     "data": {
      "text/plain": [
       "[{'cam_R_m2c': [-0.52573111,\n",
       "   0.85065081,\n",
       "   0.0,\n",
       "   0.84825128,\n",
       "   0.52424812,\n",
       "   -0.07505775,\n",
       "   -0.06384793,\n",
       "   -0.03946019,\n",
       "   -0.99717919],\n",
       "  'cam_t_m2c': [-0.0, 0.0, 400.0],\n",
       "  'obj_id': 1}]"
      ]
     },
     "execution_count": 7,
     "metadata": {},
     "output_type": "execute_result"
    }
   ],
   "source": [
    "gts = load_params_from_json(os.path.join(scene_path, \"scene_gt.json\"))\n",
    "gts[\"1\"]"
   ]
  },
  {
   "cell_type": "code",
   "execution_count": 10,
   "metadata": {},
   "outputs": [
    {
     "data": {
      "text/plain": [
       "array([-0.52573111,  0.85065081,  0.        ,  0.84825128,  0.52424812,\n",
       "       -0.07505775, -0.06384793, -0.03946019, -0.99717919])"
      ]
     },
     "execution_count": 10,
     "metadata": {},
     "output_type": "execute_result"
    }
   ],
   "source": [
    "gts['1'][0]['cam_R_m2c']"
   ]
  },
  {
   "cell_type": "code",
   "execution_count": null,
   "metadata": {},
   "outputs": [],
   "source": []
  },
  {
   "cell_type": "code",
   "execution_count": null,
   "metadata": {},
   "outputs": [],
   "source": []
  },
  {
   "cell_type": "code",
   "execution_count": null,
   "metadata": {},
   "outputs": [],
   "source": []
  },
  {
   "cell_type": "code",
   "execution_count": null,
   "metadata": {},
   "outputs": [],
   "source": []
  },
  {
   "cell_type": "code",
   "execution_count": null,
   "metadata": {},
   "outputs": [],
   "source": []
  },
  {
   "cell_type": "code",
   "execution_count": null,
   "metadata": {},
   "outputs": [],
   "source": []
  }
 ],
 "metadata": {
  "kernelspec": {
   "display_name": "pvnet",
   "language": "python",
   "name": "pvnet"
  },
  "language_info": {
   "codemirror_mode": {
    "name": "ipython",
    "version": 3
   },
   "file_extension": ".py",
   "mimetype": "text/x-python",
   "name": "python",
   "nbconvert_exporter": "python",
   "pygments_lexer": "ipython3",
   "version": "3.6.7"
  }
 },
 "nbformat": 4,
 "nbformat_minor": 4
}
